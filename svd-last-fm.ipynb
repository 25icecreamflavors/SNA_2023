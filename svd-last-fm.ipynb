{
 "cells": [
  {
   "cell_type": "markdown",
   "id": "624dc2a0",
   "metadata": {
    "papermill": {
     "duration": 0.010029,
     "end_time": "2023-06-18T07:22:34.161240",
     "exception": false,
     "start_time": "2023-06-18T07:22:34.151211",
     "status": "completed"
    },
    "tags": []
   },
   "source": [
    "### Libraries"
   ]
  },
  {
   "cell_type": "code",
   "execution_count": 1,
   "id": "d7df3722",
   "metadata": {
    "_cell_guid": "b1076dfc-b9ad-4769-8c92-a6c4dae69d19",
    "_kg_hide-output": true,
    "_uuid": "8f2839f25d086af736a60e9eeb907d3b93b6e0e5",
    "execution": {
     "iopub.execute_input": "2023-06-18T07:22:34.182606Z",
     "iopub.status.busy": "2023-06-18T07:22:34.182184Z",
     "iopub.status.idle": "2023-06-18T07:22:36.468211Z",
     "shell.execute_reply": "2023-06-18T07:22:36.467000Z"
    },
    "papermill": {
     "duration": 2.300023,
     "end_time": "2023-06-18T07:22:36.471108",
     "exception": false,
     "start_time": "2023-06-18T07:22:34.171085",
     "status": "completed"
    },
    "tags": []
   },
   "outputs": [],
   "source": [
    "from sklearn.model_selection import train_test_split\n",
    "import numpy as np # linear algebra\n",
    "import pandas as pd # data processing, CSV file I/O (e.g. pd.read_csv)\n",
    "import random, os\n",
    "import networkx as nx\n",
    "import pandas as pd\n",
    "import json"
   ]
  },
  {
   "cell_type": "markdown",
   "id": "f9970b4e",
   "metadata": {
    "papermill": {
     "duration": 0.009306,
     "end_time": "2023-06-18T07:22:36.490420",
     "exception": false,
     "start_time": "2023-06-18T07:22:36.481114",
     "status": "completed"
    },
    "tags": []
   },
   "source": [
    "### Fix the seed"
   ]
  },
  {
   "cell_type": "code",
   "execution_count": 2,
   "id": "76b1c1b2",
   "metadata": {
    "execution": {
     "iopub.execute_input": "2023-06-18T07:22:36.512798Z",
     "iopub.status.busy": "2023-06-18T07:22:36.512419Z",
     "iopub.status.idle": "2023-06-18T07:22:36.518300Z",
     "shell.execute_reply": "2023-06-18T07:22:36.517213Z"
    },
    "papermill": {
     "duration": 0.019277,
     "end_time": "2023-06-18T07:22:36.520842",
     "exception": false,
     "start_time": "2023-06-18T07:22:36.501565",
     "status": "completed"
    },
    "tags": []
   },
   "outputs": [],
   "source": [
    "def seed_everything(seed: int):    \n",
    "    random.seed(seed)\n",
    "    os.environ['PYTHONHASHSEED'] = str(seed)\n",
    "    np.random.seed(seed)\n",
    "#     torch.manual_seed(seed)\n",
    "#     torch.cuda.manual_seed(seed)\n",
    "#     torch.backends.cudnn.deterministic = True\n",
    "#     torch.backends.cudnn.benchmark = True"
   ]
  },
  {
   "cell_type": "code",
   "execution_count": 3,
   "id": "6136a523",
   "metadata": {
    "execution": {
     "iopub.execute_input": "2023-06-18T07:22:36.542063Z",
     "iopub.status.busy": "2023-06-18T07:22:36.541674Z",
     "iopub.status.idle": "2023-06-18T07:22:36.546755Z",
     "shell.execute_reply": "2023-06-18T07:22:36.545587Z"
    },
    "papermill": {
     "duration": 0.018228,
     "end_time": "2023-06-18T07:22:36.548898",
     "exception": false,
     "start_time": "2023-06-18T07:22:36.530670",
     "status": "completed"
    },
    "tags": []
   },
   "outputs": [],
   "source": [
    "SEED = 5051\n",
    "seed_everything(SEED)"
   ]
  },
  {
   "cell_type": "markdown",
   "id": "9ab62695",
   "metadata": {
    "papermill": {
     "duration": 0.009207,
     "end_time": "2023-06-18T07:22:36.567794",
     "exception": false,
     "start_time": "2023-06-18T07:22:36.558587",
     "status": "completed"
    },
    "tags": []
   },
   "source": [
    "### Get the graph, add target and music"
   ]
  },
  {
   "cell_type": "code",
   "execution_count": 4,
   "id": "8f58717b",
   "metadata": {
    "execution": {
     "iopub.execute_input": "2023-06-18T07:22:36.589357Z",
     "iopub.status.busy": "2023-06-18T07:22:36.588626Z",
     "iopub.status.idle": "2023-06-18T07:22:36.592937Z",
     "shell.execute_reply": "2023-06-18T07:22:36.592096Z"
    },
    "papermill": {
     "duration": 0.017836,
     "end_time": "2023-06-18T07:22:36.595233",
     "exception": false,
     "start_time": "2023-06-18T07:22:36.577397",
     "status": "completed"
    },
    "tags": []
   },
   "outputs": [],
   "source": [
    "PATH = \"/kaggle/input/graphs-social/feather-lastfm-social/\""
   ]
  },
  {
   "cell_type": "code",
   "execution_count": 5,
   "id": "f54f02ae",
   "metadata": {
    "execution": {
     "iopub.execute_input": "2023-06-18T07:22:36.618231Z",
     "iopub.status.busy": "2023-06-18T07:22:36.617496Z",
     "iopub.status.idle": "2023-06-18T07:22:37.425553Z",
     "shell.execute_reply": "2023-06-18T07:22:37.424320Z"
    },
    "papermill": {
     "duration": 0.822467,
     "end_time": "2023-06-18T07:22:37.428521",
     "exception": false,
     "start_time": "2023-06-18T07:22:36.606054",
     "status": "completed"
    },
    "tags": []
   },
   "outputs": [],
   "source": [
    "# Load the JSON file\n",
    "with open(PATH + 'lastfm_asia_features.json', 'r') as file:\n",
    "    json_data = json.load(file)"
   ]
  },
  {
   "cell_type": "code",
   "execution_count": 6,
   "id": "9f3ae0dc",
   "metadata": {
    "execution": {
     "iopub.execute_input": "2023-06-18T07:22:37.449624Z",
     "iopub.status.busy": "2023-06-18T07:22:37.449197Z",
     "iopub.status.idle": "2023-06-18T07:22:37.697625Z",
     "shell.execute_reply": "2023-06-18T07:22:37.696190Z"
    },
    "papermill": {
     "duration": 0.26263,
     "end_time": "2023-06-18T07:22:37.700870",
     "exception": false,
     "start_time": "2023-06-18T07:22:37.438240",
     "status": "completed"
    },
    "tags": []
   },
   "outputs": [],
   "source": [
    "graph_csv = PATH + \"lastfm_asia_edges.csv\"\n",
    "target_csv = PATH + \"lastfm_asia_target.csv\"\n",
    "\n",
    "graph_df = pd.read_csv(graph_csv)\n",
    "target_df = pd.read_csv(target_csv)\n",
    "\n",
    "# Create a new graph\n",
    "graph = nx.Graph()\n",
    "\n",
    "# Add nodes from the graph file\n",
    "nodes = set(graph_df['node_1']).union(set(graph_df['node_2']))\n",
    "graph.add_nodes_from(nodes)\n",
    "\n",
    "# Add edges from the graph file\n",
    "edges = graph_df[['node_1', 'node_2']].values\n",
    "graph.add_edges_from(edges)\n",
    "\n",
    "# Add target information to graph nodes\n",
    "target_mapping = dict(target_df[['id', 'target']].values)\n",
    "nx.set_node_attributes(graph, target_mapping, 'target')\n",
    "\n",
    "G = graph\n",
    "del graph"
   ]
  },
  {
   "cell_type": "code",
   "execution_count": 7,
   "id": "8253b55e",
   "metadata": {
    "execution": {
     "iopub.execute_input": "2023-06-18T07:22:37.722517Z",
     "iopub.status.busy": "2023-06-18T07:22:37.722083Z",
     "iopub.status.idle": "2023-06-18T07:22:37.742243Z",
     "shell.execute_reply": "2023-06-18T07:22:37.740892Z"
    },
    "papermill": {
     "duration": 0.033913,
     "end_time": "2023-06-18T07:22:37.744894",
     "exception": false,
     "start_time": "2023-06-18T07:22:37.710981",
     "status": "completed"
    },
    "tags": []
   },
   "outputs": [],
   "source": [
    "# Iterate over the JSON data\n",
    "for node_id, attributes in json_data.items():\n",
    "    if int(node_id) in G.nodes:\n",
    "        G.nodes[int(node_id)][\"music\"] = attributes"
   ]
  },
  {
   "cell_type": "markdown",
   "id": "38a0e4bc",
   "metadata": {
    "papermill": {
     "duration": 0.009236,
     "end_time": "2023-06-18T07:22:37.764189",
     "exception": false,
     "start_time": "2023-06-18T07:22:37.754953",
     "status": "completed"
    },
    "tags": []
   },
   "source": [
    "### Check"
   ]
  },
  {
   "cell_type": "code",
   "execution_count": 8,
   "id": "df60656f",
   "metadata": {
    "execution": {
     "iopub.execute_input": "2023-06-18T07:22:37.785101Z",
     "iopub.status.busy": "2023-06-18T07:22:37.784674Z",
     "iopub.status.idle": "2023-06-18T07:22:37.793185Z",
     "shell.execute_reply": "2023-06-18T07:22:37.791836Z"
    },
    "papermill": {
     "duration": 0.021727,
     "end_time": "2023-06-18T07:22:37.795459",
     "exception": false,
     "start_time": "2023-06-18T07:22:37.773732",
     "status": "completed"
    },
    "tags": []
   },
   "outputs": [],
   "source": [
    "assert len(G.edges) == 27806, \"Not enough edges\"\n",
    "assert len(G.nodes) == 7624, \"Not enough nodes\""
   ]
  },
  {
   "cell_type": "markdown",
   "id": "d8a56002",
   "metadata": {
    "papermill": {
     "duration": 0.009352,
     "end_time": "2023-06-18T07:22:37.814713",
     "exception": false,
     "start_time": "2023-06-18T07:22:37.805361",
     "status": "completed"
    },
    "tags": []
   },
   "source": [
    "### Divide the graph on train/val/test"
   ]
  },
  {
   "cell_type": "code",
   "execution_count": 9,
   "id": "fb624c0a",
   "metadata": {
    "execution": {
     "iopub.execute_input": "2023-06-18T07:22:37.836176Z",
     "iopub.status.busy": "2023-06-18T07:22:37.835398Z",
     "iopub.status.idle": "2023-06-18T07:22:37.858096Z",
     "shell.execute_reply": "2023-06-18T07:22:37.856979Z"
    },
    "papermill": {
     "duration": 0.036632,
     "end_time": "2023-06-18T07:22:37.860987",
     "exception": false,
     "start_time": "2023-06-18T07:22:37.824355",
     "status": "completed"
    },
    "tags": []
   },
   "outputs": [],
   "source": [
    "# Split the graph into train, validation, and test sets based on targets\n",
    "nodes = list(G.nodes())\n",
    "targets = [G.nodes[node]['target'] for node in nodes]\n",
    "\n",
    "nodes_train_val, nodes_test, targets_train_val, targets_test = train_test_split(\n",
    "    nodes, targets, test_size=0.2, random_state=SEED)\n",
    "nodes_train, nodes_val, targets_train, targets_val = train_test_split(\n",
    "    nodes_train_val, targets_train_val, test_size=0.1, random_state=SEED)"
   ]
  },
  {
   "cell_type": "code",
   "execution_count": 10,
   "id": "a342bc41",
   "metadata": {
    "execution": {
     "iopub.execute_input": "2023-06-18T07:22:37.883247Z",
     "iopub.status.busy": "2023-06-18T07:22:37.881992Z",
     "iopub.status.idle": "2023-06-18T07:22:37.890077Z",
     "shell.execute_reply": "2023-06-18T07:22:37.889206Z"
    },
    "papermill": {
     "duration": 0.021594,
     "end_time": "2023-06-18T07:22:37.892454",
     "exception": false,
     "start_time": "2023-06-18T07:22:37.870860",
     "status": "completed"
    },
    "tags": []
   },
   "outputs": [],
   "source": [
    "# Create separate graphs for train, validation, and test sets\n",
    "graph_train = G.subgraph(nodes_train)\n",
    "graph_val = G.subgraph(nodes_val)\n",
    "graph_test = G.subgraph(nodes_test)"
   ]
  },
  {
   "cell_type": "code",
   "execution_count": 11,
   "id": "f8c31938",
   "metadata": {
    "execution": {
     "iopub.execute_input": "2023-06-18T07:22:37.913860Z",
     "iopub.status.busy": "2023-06-18T07:22:37.913462Z",
     "iopub.status.idle": "2023-06-18T07:22:37.926551Z",
     "shell.execute_reply": "2023-06-18T07:22:37.925269Z"
    },
    "papermill": {
     "duration": 0.02711,
     "end_time": "2023-06-18T07:22:37.929296",
     "exception": false,
     "start_time": "2023-06-18T07:22:37.902186",
     "status": "completed"
    },
    "tags": []
   },
   "outputs": [],
   "source": [
    "# Check, that we have same splits\n",
    "assert list(graph_train.nodes)[0:5] == [0, 2, 3, 4, 7], \"Something is wrong\""
   ]
  },
  {
   "cell_type": "code",
   "execution_count": 12,
   "id": "71311ad5",
   "metadata": {
    "execution": {
     "iopub.execute_input": "2023-06-18T07:22:37.950878Z",
     "iopub.status.busy": "2023-06-18T07:22:37.950211Z",
     "iopub.status.idle": "2023-06-18T07:22:37.954568Z",
     "shell.execute_reply": "2023-06-18T07:22:37.953773Z"
    },
    "papermill": {
     "duration": 0.017737,
     "end_time": "2023-06-18T07:22:37.956801",
     "exception": false,
     "start_time": "2023-06-18T07:22:37.939064",
     "status": "completed"
    },
    "tags": []
   },
   "outputs": [],
   "source": [
    "# Check, that you have target and music there\n",
    "# graph_train.nodes[2]"
   ]
  },
  {
   "cell_type": "markdown",
   "id": "cc25a0e0",
   "metadata": {
    "papermill": {
     "duration": 0.009212,
     "end_time": "2023-06-18T07:22:37.975552",
     "exception": false,
     "start_time": "2023-06-18T07:22:37.966340",
     "status": "completed"
    },
    "tags": []
   },
   "source": [
    "### SVD: extract features and targets"
   ]
  },
  {
   "cell_type": "code",
   "execution_count": 13,
   "id": "fed8b833",
   "metadata": {
    "execution": {
     "iopub.execute_input": "2023-06-18T07:22:37.997049Z",
     "iopub.status.busy": "2023-06-18T07:22:37.996404Z",
     "iopub.status.idle": "2023-06-18T07:22:38.314222Z",
     "shell.execute_reply": "2023-06-18T07:22:38.313179Z"
    },
    "papermill": {
     "duration": 0.331867,
     "end_time": "2023-06-18T07:22:38.317133",
     "exception": false,
     "start_time": "2023-06-18T07:22:37.985266",
     "status": "completed"
    },
    "tags": []
   },
   "outputs": [],
   "source": [
    "# Assuming your graph is stored in variable G and target classes in class_dict\n",
    "adj_matrix = nx.adjacency_matrix(G)"
   ]
  },
  {
   "cell_type": "code",
   "execution_count": 14,
   "id": "2537ab32",
   "metadata": {
    "execution": {
     "iopub.execute_input": "2023-06-18T07:22:38.338135Z",
     "iopub.status.busy": "2023-06-18T07:22:38.337749Z",
     "iopub.status.idle": "2023-06-18T07:22:38.351898Z",
     "shell.execute_reply": "2023-06-18T07:22:38.350526Z"
    },
    "papermill": {
     "duration": 0.02771,
     "end_time": "2023-06-18T07:22:38.354535",
     "exception": false,
     "start_time": "2023-06-18T07:22:38.326825",
     "status": "completed"
    },
    "tags": []
   },
   "outputs": [],
   "source": [
    "max_music_length = max(len(G.nodes()[node]['music']) for node in G.nodes())"
   ]
  },
  {
   "cell_type": "code",
   "execution_count": 15,
   "id": "b02acdf4",
   "metadata": {
    "execution": {
     "iopub.execute_input": "2023-06-18T07:22:38.375659Z",
     "iopub.status.busy": "2023-06-18T07:22:38.375257Z",
     "iopub.status.idle": "2023-06-18T07:22:39.245178Z",
     "shell.execute_reply": "2023-06-18T07:22:39.243674Z"
    },
    "papermill": {
     "duration": 0.883751,
     "end_time": "2023-06-18T07:22:39.248065",
     "exception": false,
     "start_time": "2023-06-18T07:22:38.364314",
     "status": "completed"
    },
    "tags": []
   },
   "outputs": [],
   "source": [
    "# Create the music feature matrix\n",
    "music_feature_matrix = np.zeros((len(G.nodes()), max_music_length))\n",
    "\n",
    "for node in G.nodes():\n",
    "    music = G.nodes()[node]['music']\n",
    "    padding_length = max_music_length - len(music)\n",
    "    padded_music = music + [0] * padding_length\n",
    "    \n",
    "    music_feature_matrix[node] = padded_music"
   ]
  },
  {
   "cell_type": "code",
   "execution_count": 16,
   "id": "9302275b",
   "metadata": {
    "execution": {
     "iopub.execute_input": "2023-06-18T07:22:39.272249Z",
     "iopub.status.busy": "2023-06-18T07:22:39.271805Z",
     "iopub.status.idle": "2023-06-18T07:22:39.716843Z",
     "shell.execute_reply": "2023-06-18T07:22:39.715667Z"
    },
    "papermill": {
     "duration": 0.459717,
     "end_time": "2023-06-18T07:22:39.719510",
     "exception": false,
     "start_time": "2023-06-18T07:22:39.259793",
     "status": "completed"
    },
    "tags": []
   },
   "outputs": [],
   "source": [
    "# Convert the adjacency matrix to a dense matrix\n",
    "adj_dense = adj_matrix.toarray()\n",
    "\n",
    "# Concatenate the adjacency and music feature matrices\n",
    "updated_adj_matrix = np.concatenate((adj_dense, music_feature_matrix), axis=1)"
   ]
  },
  {
   "cell_type": "code",
   "execution_count": 17,
   "id": "f86dcbf3",
   "metadata": {
    "execution": {
     "iopub.execute_input": "2023-06-18T07:22:39.741244Z",
     "iopub.status.busy": "2023-06-18T07:22:39.740811Z",
     "iopub.status.idle": "2023-06-18T07:22:39.747960Z",
     "shell.execute_reply": "2023-06-18T07:22:39.747103Z"
    },
    "papermill": {
     "duration": 0.020921,
     "end_time": "2023-06-18T07:22:39.750600",
     "exception": false,
     "start_time": "2023-06-18T07:22:39.729679",
     "status": "completed"
    },
    "tags": []
   },
   "outputs": [
    {
     "data": {
      "text/plain": [
       "(7624, 8568)"
      ]
     },
     "execution_count": 17,
     "metadata": {},
     "output_type": "execute_result"
    }
   ],
   "source": [
    "updated_adj_matrix.shape"
   ]
  },
  {
   "cell_type": "code",
   "execution_count": 18,
   "id": "69e3e95e",
   "metadata": {
    "execution": {
     "iopub.execute_input": "2023-06-18T07:22:39.772472Z",
     "iopub.status.busy": "2023-06-18T07:22:39.772066Z",
     "iopub.status.idle": "2023-06-18T07:22:39.778659Z",
     "shell.execute_reply": "2023-06-18T07:22:39.777550Z"
    },
    "papermill": {
     "duration": 0.020229,
     "end_time": "2023-06-18T07:22:39.781040",
     "exception": false,
     "start_time": "2023-06-18T07:22:39.760811",
     "status": "completed"
    },
    "tags": []
   },
   "outputs": [
    {
     "data": {
      "text/plain": [
       "(7624, 7624)"
      ]
     },
     "execution_count": 18,
     "metadata": {},
     "output_type": "execute_result"
    }
   ],
   "source": [
    "adj_matrix.shape"
   ]
  },
  {
   "cell_type": "code",
   "execution_count": 19,
   "id": "3d37b86c",
   "metadata": {
    "execution": {
     "iopub.execute_input": "2023-06-18T07:22:39.803494Z",
     "iopub.status.busy": "2023-06-18T07:22:39.802941Z",
     "iopub.status.idle": "2023-06-18T07:25:56.128735Z",
     "shell.execute_reply": "2023-06-18T07:25:56.127334Z"
    },
    "papermill": {
     "duration": 196.340388,
     "end_time": "2023-06-18T07:25:56.131805",
     "exception": false,
     "start_time": "2023-06-18T07:22:39.791417",
     "status": "completed"
    },
    "tags": []
   },
   "outputs": [],
   "source": [
    "k = 512  # Number of singular values/vectors to keep\n",
    "U, S, V = np.linalg.svd(adj_matrix.todense())"
   ]
  },
  {
   "cell_type": "code",
   "execution_count": 20,
   "id": "45bb8c3e",
   "metadata": {
    "execution": {
     "iopub.execute_input": "2023-06-18T07:25:56.154315Z",
     "iopub.status.busy": "2023-06-18T07:25:56.153856Z",
     "iopub.status.idle": "2023-06-18T07:25:56.313247Z",
     "shell.execute_reply": "2023-06-18T07:25:56.312091Z"
    },
    "papermill": {
     "duration": 0.174832,
     "end_time": "2023-06-18T07:25:56.316693",
     "exception": false,
     "start_time": "2023-06-18T07:25:56.141861",
     "status": "completed"
    },
    "tags": []
   },
   "outputs": [],
   "source": [
    "train_features = U[sorted(nodes_train)]\n",
    "val_features = U[sorted(nodes_val)]\n",
    "test_features = U[sorted(nodes_test)]"
   ]
  },
  {
   "cell_type": "code",
   "execution_count": 21,
   "id": "4447f3d2",
   "metadata": {
    "execution": {
     "iopub.execute_input": "2023-06-18T07:25:56.345315Z",
     "iopub.status.busy": "2023-06-18T07:25:56.344912Z",
     "iopub.status.idle": "2023-06-18T07:25:56.370203Z",
     "shell.execute_reply": "2023-06-18T07:25:56.368678Z"
    },
    "papermill": {
     "duration": 0.043309,
     "end_time": "2023-06-18T07:25:56.373555",
     "exception": false,
     "start_time": "2023-06-18T07:25:56.330246",
     "status": "completed"
    },
    "tags": []
   },
   "outputs": [],
   "source": [
    "train_labels = [graph_train.nodes()[node][\"target\"] for node in graph_train.nodes()]\n",
    "val_labels = [graph_val.nodes()[node][\"target\"] for node in graph_val.nodes()]\n",
    "test_labels = [graph_test.nodes()[node][\"target\"] for node in graph_test.nodes()]"
   ]
  },
  {
   "cell_type": "markdown",
   "id": "6812cf11",
   "metadata": {
    "papermill": {
     "duration": 0.009918,
     "end_time": "2023-06-18T07:25:56.396963",
     "exception": false,
     "start_time": "2023-06-18T07:25:56.387045",
     "status": "completed"
    },
    "tags": []
   },
   "source": [
    "### Train the classifier"
   ]
  },
  {
   "cell_type": "code",
   "execution_count": 22,
   "id": "b516364b",
   "metadata": {
    "execution": {
     "iopub.execute_input": "2023-06-18T07:25:56.422426Z",
     "iopub.status.busy": "2023-06-18T07:25:56.421715Z",
     "iopub.status.idle": "2023-06-18T07:25:58.041424Z",
     "shell.execute_reply": "2023-06-18T07:25:58.040139Z"
    },
    "papermill": {
     "duration": 1.637129,
     "end_time": "2023-06-18T07:25:58.044377",
     "exception": false,
     "start_time": "2023-06-18T07:25:56.407248",
     "status": "completed"
    },
    "tags": []
   },
   "outputs": [],
   "source": [
    "from lightgbm import LGBMClassifier\n",
    "from sklearn.metrics import accuracy_score\n",
    "from catboost import CatBoostClassifier\n",
    "from xgboost import XGBClassifier"
   ]
  },
  {
   "cell_type": "code",
   "execution_count": 23,
   "id": "c5cb0b96",
   "metadata": {
    "execution": {
     "iopub.execute_input": "2023-06-18T07:25:58.065981Z",
     "iopub.status.busy": "2023-06-18T07:25:58.065587Z",
     "iopub.status.idle": "2023-06-18T07:26:37.947006Z",
     "shell.execute_reply": "2023-06-18T07:26:37.945851Z"
    },
    "papermill": {
     "duration": 39.895535,
     "end_time": "2023-06-18T07:26:37.949931",
     "exception": false,
     "start_time": "2023-06-18T07:25:58.054396",
     "status": "completed"
    },
    "tags": []
   },
   "outputs": [
    {
     "name": "stderr",
     "output_type": "stream",
     "text": [
      "/opt/conda/lib/python3.10/site-packages/lightgbm/sklearn.py:726: UserWarning: 'early_stopping_rounds' argument is deprecated and will be removed in a future release of LightGBM. Pass 'early_stopping()' callback via 'callbacks' argument instead.\n",
      "  _log_warning(\"'early_stopping_rounds' argument is deprecated and will be removed in a future release of LightGBM. \"\n"
     ]
    },
    {
     "name": "stdout",
     "output_type": "stream",
     "text": [
      "[1]\tvalid_0's multi_logloss: 2.51229\n",
      "[2]\tvalid_0's multi_logloss: 2.5624\n",
      "[3]\tvalid_0's multi_logloss: 2.65556\n",
      "[4]\tvalid_0's multi_logloss: 2.73375\n",
      "[5]\tvalid_0's multi_logloss: 2.8213\n",
      "[6]\tvalid_0's multi_logloss: 2.90443\n",
      "[7]\tvalid_0's multi_logloss: 2.98585\n",
      "[8]\tvalid_0's multi_logloss: 3.06787\n",
      "[9]\tvalid_0's multi_logloss: 3.14725\n",
      "[10]\tvalid_0's multi_logloss: 3.22547\n",
      "[11]\tvalid_0's multi_logloss: 3.30029\n"
     ]
    },
    {
     "data": {
      "text/plain": [
       "(0.7050464565494625, 0.7016393442622951)"
      ]
     },
     "execution_count": 23,
     "metadata": {},
     "output_type": "execute_result"
    }
   ],
   "source": [
    "model = LGBMClassifier(random_state=SEED, max_depth=3, n_estimators=1000, learning_rate=0.11)\n",
    "model.fit(train_features, train_labels, early_stopping_rounds=10, eval_set=[(val_features, val_labels)],\n",
    "          eval_metric='multi_logloss')\n",
    "preds_train = model.predict(train_features)\n",
    "preds_test = model.predict(test_features)\n",
    "accuracy_score(train_labels, preds_train), accuracy_score(test_labels, preds_test)"
   ]
  },
  {
   "cell_type": "code",
   "execution_count": 24,
   "id": "c376c2bd",
   "metadata": {
    "execution": {
     "iopub.execute_input": "2023-06-18T07:26:37.974993Z",
     "iopub.status.busy": "2023-06-18T07:26:37.974152Z",
     "iopub.status.idle": "2023-06-18T07:28:19.577830Z",
     "shell.execute_reply": "2023-06-18T07:28:19.575754Z"
    },
    "papermill": {
     "duration": 101.62969,
     "end_time": "2023-06-18T07:28:19.591062",
     "exception": false,
     "start_time": "2023-06-18T07:26:37.961372",
     "status": "completed"
    },
    "tags": []
   },
   "outputs": [
    {
     "name": "stdout",
     "output_type": "stream",
     "text": [
      "Learning rate set to 0.111717\n",
      "0:\tlearn: 2.5029202\ttest: 2.8052966\tbest: 2.8052966 (0)\ttotal: 4.24s\tremaining: 1h 10m 34s\n",
      "1:\tlearn: 2.2317356\ttest: 2.7765585\tbest: 2.7765585 (1)\ttotal: 7.31s\tremaining: 1h 48s\n",
      "2:\tlearn: 2.0670276\ttest: 2.7616996\tbest: 2.7616996 (2)\ttotal: 9.98s\tremaining: 55m 18s\n",
      "3:\tlearn: 1.9595320\ttest: 2.7708173\tbest: 2.7616996 (2)\ttotal: 12.7s\tremaining: 52m 41s\n",
      "4:\tlearn: 1.8498059\ttest: 2.7736628\tbest: 2.7616996 (2)\ttotal: 15.8s\tremaining: 52m 23s\n",
      "5:\tlearn: 1.7564330\ttest: 2.7778520\tbest: 2.7616996 (2)\ttotal: 18.3s\tremaining: 50m 30s\n",
      "6:\tlearn: 1.6872724\ttest: 2.7968542\tbest: 2.7616996 (2)\ttotal: 21.5s\tremaining: 50m 55s\n",
      "7:\tlearn: 1.6275255\ttest: 2.8081847\tbest: 2.7616996 (2)\ttotal: 23.8s\tremaining: 49m 15s\n",
      "8:\tlearn: 1.5781561\ttest: 2.8248163\tbest: 2.7616996 (2)\ttotal: 26.5s\tremaining: 48m 40s\n",
      "9:\tlearn: 1.5311209\ttest: 2.8300796\tbest: 2.7616996 (2)\ttotal: 28.9s\tremaining: 47m 38s\n",
      "10:\tlearn: 1.4855632\ttest: 2.8232657\tbest: 2.7616996 (2)\ttotal: 31.1s\tremaining: 46m 34s\n",
      "11:\tlearn: 1.4469979\ttest: 2.8330756\tbest: 2.7616996 (2)\ttotal: 33.5s\tremaining: 45m 58s\n",
      "12:\tlearn: 1.4175052\ttest: 2.8434312\tbest: 2.7616996 (2)\ttotal: 35.9s\tremaining: 45m 21s\n",
      "Stopped by overfitting detector  (10 iterations wait)\n",
      "\n",
      "bestTest = 2.761699604\n",
      "bestIteration = 2\n",
      "\n",
      "Shrink model to first 3 iterations.\n"
     ]
    },
    {
     "data": {
      "text/plain": [
       "(0.5829841501184186, 0.6163934426229508)"
      ]
     },
     "execution_count": 24,
     "metadata": {},
     "output_type": "execute_result"
    }
   ],
   "source": [
    "model = CatBoostClassifier(random_state=SEED, max_depth=3, n_estimators=1000)\n",
    "model.fit(train_features, train_labels, early_stopping_rounds=10, eval_set=[(val_features, val_labels)])\n",
    "preds_train = model.predict(train_features)\n",
    "preds_test = model.predict(test_features)\n",
    "accuracy_score(train_labels, preds_train), accuracy_score(test_labels, preds_test)"
   ]
  },
  {
   "cell_type": "code",
   "execution_count": 25,
   "id": "1c1770eb",
   "metadata": {
    "execution": {
     "iopub.execute_input": "2023-06-18T07:28:19.617688Z",
     "iopub.status.busy": "2023-06-18T07:28:19.617022Z",
     "iopub.status.idle": "2023-06-18T07:45:40.490498Z",
     "shell.execute_reply": "2023-06-18T07:45:40.489356Z"
    },
    "papermill": {
     "duration": 1040.890212,
     "end_time": "2023-06-18T07:45:40.493363",
     "exception": false,
     "start_time": "2023-06-18T07:28:19.603151",
     "status": "completed"
    },
    "tags": []
   },
   "outputs": [
    {
     "name": "stderr",
     "output_type": "stream",
     "text": [
      "/opt/conda/lib/python3.10/site-packages/xgboost/sklearn.py:835: UserWarning: `early_stopping_rounds` in `fit` method is deprecated for better compatibility with scikit-learn, use `early_stopping_rounds` in constructor or`set_params` instead.\n",
      "  warnings.warn(\n"
     ]
    },
    {
     "name": "stdout",
     "output_type": "stream",
     "text": [
      "[0]\tvalidation_0-mlogloss:2.86285\n",
      "[1]\tvalidation_0-mlogloss:2.85045\n",
      "[2]\tvalidation_0-mlogloss:2.84372\n",
      "[3]\tvalidation_0-mlogloss:2.84118\n",
      "[4]\tvalidation_0-mlogloss:2.83988\n",
      "[5]\tvalidation_0-mlogloss:2.84097\n",
      "[6]\tvalidation_0-mlogloss:2.84457\n",
      "[7]\tvalidation_0-mlogloss:2.84795\n",
      "[8]\tvalidation_0-mlogloss:2.85271\n",
      "[9]\tvalidation_0-mlogloss:2.85902\n",
      "[10]\tvalidation_0-mlogloss:2.86689\n",
      "[11]\tvalidation_0-mlogloss:2.87438\n",
      "[12]\tvalidation_0-mlogloss:2.88350\n",
      "[13]\tvalidation_0-mlogloss:2.89327\n",
      "[14]\tvalidation_0-mlogloss:2.90406\n"
     ]
    },
    {
     "data": {
      "text/plain": [
       "(0.8019675715066497, 0.7836065573770492)"
      ]
     },
     "execution_count": 25,
     "metadata": {},
     "output_type": "execute_result"
    }
   ],
   "source": [
    "model = XGBClassifier(random_state=SEED, max_depth=3, n_estimators=1000, learning_rate=0.05)\n",
    "model.fit(train_features, train_labels, early_stopping_rounds=10, eval_set=[(val_features, val_labels)])\n",
    "preds_train = model.predict(train_features)\n",
    "preds_test = model.predict(test_features)\n",
    "accuracy_score(train_labels, preds_train), accuracy_score(test_labels, preds_test)"
   ]
  }
 ],
 "metadata": {
  "kernelspec": {
   "display_name": "Python 3",
   "language": "python",
   "name": "python3"
  },
  "language_info": {
   "codemirror_mode": {
    "name": "ipython",
    "version": 3
   },
   "file_extension": ".py",
   "mimetype": "text/x-python",
   "name": "python",
   "nbconvert_exporter": "python",
   "pygments_lexer": "ipython3",
   "version": "3.10.10"
  },
  "papermill": {
   "default_parameters": {},
   "duration": 1401.296682,
   "end_time": "2023-06-18T07:45:42.238072",
   "environment_variables": {},
   "exception": null,
   "input_path": "__notebook__.ipynb",
   "output_path": "__notebook__.ipynb",
   "parameters": {},
   "start_time": "2023-06-18T07:22:20.941390",
   "version": "2.4.0"
  }
 },
 "nbformat": 4,
 "nbformat_minor": 5
}
